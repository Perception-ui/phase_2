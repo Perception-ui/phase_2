{
 "cells": [
  {
   "attachments": {},
   "cell_type": "markdown",
   "metadata": {
    "id": "kLG2VTrnTvYL"
   },
   "source": [
    "# Feature Importance Analysis: Identifying Key Factors Affecting House Prices in King County."
   ]
  },
  {
   "attachments": {},
   "cell_type": "markdown",
   "metadata": {},
   "source": [
    "## Business Understanding\n",
    "A real estate agency yearning to to enhance their advisory services and deliver targeted, discerning advice to homeowners and buyers.\n",
    "\n",
    "The real estate agency needs to identify and prioritize the most influential features that significantly impact house prices, and refine a model that will allow the agency to offer personalized recommendations to clients, navigating the real estate market effectively."
   ]
  },
  {
   "cell_type": "markdown",
   "metadata": {
    "id": "a9BPYqunry97"
   },
   "source": [
    "## Data Understanding\n",
    "\n",
    "In this section, we will explore the King County House Sales dataset to gain a comprehensive understanding of the predictor variables and their potential influence on the target variable, **price**:\n",
    "\n",
    "- **bedrooms**: The number of bedrooms in a house represents its capacity to accommodate occupants and may have a significant impact on its value.\n",
    "\n",
    "- **bathrooms**: The number of bathrooms ties to the convenience and functionality of the property.\n",
    "\n",
    "- **sqft_living**: The square footage of the living space provides an estimate of the overall size and spaciousness of the house, which can be a determining factor for buyers.\n",
    "\n",
    "- **sqft_lot**: The size of the lot influences desirability and prospect of expansion or outdoor amenities.\n",
    "\n",
    "- **floors**: The number of floors in a house affect its layout.\n",
    "\n",
    "- **waterfront**: Whether a house is located on a waterfront can significantly impact its desirability and exclusivity, potentially leading to higher prices.\n",
    "\n",
    "- **view**: The quality of the view from a house, such as scenic landscapes or city skylines, can be a sought-after feature that affects its value.\n",
    "\n",
    "- **condition**: The overall condition of a house, reflecting its maintenance and upkeep, can influence buyer perception and potentially impact pricing.\n",
    "\n",
    "- **grade**: The grade assigned to a house based on its construction and design quality can be an indicator of its overall value and prestige.\n",
    "\n",
    "- **yr_built**: The year when a house was built can be relevant to buyers seeking historical charm or considering potential renovation costs.\n",
    "\n",
    "- **yr_renovated**: The year of the most recent renovation can indicate the modernization or upgrades made to the house.\n",
    "\n",
    "Based on their potential impact on house prices and relevance to the target variable, the predictor variables will guide the subsequent steps of the project, including data preparation, feature selection, and model development.\n"
   ]
  },
  {
   "cell_type": "markdown",
   "metadata": {
    "id": "7KMRBJ7zr9HD"
   },
   "source": [
    "### Experimental Design\n",
    "\n",
    "1. Data Exploration and Preprocessing\n",
    "   - Explore the dataset to understand variables and their relationships.\n",
    "\n",
    "2. Feature Engineering\n",
    "   - Identify potentially influential features based on domain knowledge and analysis.\n",
    "   - Create new features or transform existing ones to capture meaningful information.\n",
    "\n",
    "3. Model Building and Evaluation\n",
    "   - Start with a basic linear regression model using influential features and the target variable.\n",
    "   - Evaluate the model, assess the significance of feature coefficients and interpret their implications.\n",
    "\n",
    "4. Iterate and Refine Models\n",
    "   - Make iterative improvements to the model based on evaluation results.\n",
    "   - Explore variable transformations, feature selections, and interactions.\n",
    "   - Evaluate and compare performance, documenting changes and reasoning.\n",
    "\n",
    "5. Final Model Selection and Interpretation\n",
    "   - Select the final model based on performance, interpretability, and alignment with the business problem.\n",
    "   - Discuss findings and insights from the final model, emphasizing influential features.\n",
    "   - Provide actionable recommendations for the real estate agency.\n",
    "\n"
   ]
  },
  {
   "cell_type": "markdown",
   "metadata": {
    "id": "zSGyg6kWsBUl"
   },
   "source": [
    "### e) Data Relevance ???"
   ]
  },
  {
   "cell_type": "markdown",
   "metadata": {},
   "source": [
    "## 4. External Data Source Validation\n",
    "Making sure your data matches something outside of the dataset is very important. It allows you to ensure that the measurements are roughly in line with what they should be and it serves as a check on what other things might be wrong in your dataset. External validation can often be as simple as checking your data against a single number, as we will do here."
   ]
  },
  {
   "attachments": {},
   "cell_type": "markdown",
   "metadata": {
    "id": "iUNbvIvnT7ep"
   },
   "source": [
    "Data exploration and preprocessing: Begin by exploring the dataset to understand the variables, their types, and any missing values. Perform data preprocessing tasks such as handling missing data, dealing with outliers, and transforming variables if necessary. You can also conduct exploratory data analysis to gain insights and identify any patterns or relationships in the data."
   ]
  },
  {
   "cell_type": "code",
   "execution_count": 53,
   "metadata": {},
   "outputs": [],
   "source": [
    "# Import libraries\n",
    "import pandas as pd\n",
    "import matplotlib.pyplot as plt\n",
    "import seaborn as sns\n",
    "import numpy as np\n",
    "import statsmodels.api as sm\n",
    "from sklearn.metrics import mean_squared_error\n",
    "\n"
   ]
  },
  {
   "cell_type": "code",
   "execution_count": 54,
   "metadata": {},
   "outputs": [],
   "source": [
    "%matplotlib inline\n",
    "# Set the style\n",
    "sns.set(style='darkgrid')\n",
    "\n",
    "# Set additional parameters for aesthetics\n",
    "sns.set_palette('muted')\n",
    "sns.set_context('notebook', font_scale=0.9)"
   ]
  },
  {
   "cell_type": "code",
   "execution_count": 55,
   "metadata": {},
   "outputs": [
    {
     "data": {
      "text/plain": [
       "(21597, 21)"
      ]
     },
     "execution_count": 55,
     "metadata": {},
     "output_type": "execute_result"
    }
   ],
   "source": [
    "# Load the dataset\n",
    "data = pd.read_csv('data/kc_house_data.csv')\n",
    "\n",
    "# Check the dimensions of the dataset\n",
    "data.shape"
   ]
  },
  {
   "cell_type": "code",
   "execution_count": 56,
   "metadata": {
    "id": "YjSVNwgptHxY"
   },
   "outputs": [
    {
     "data": {
      "text/html": [
       "<div>\n",
       "<style scoped>\n",
       "    .dataframe tbody tr th:only-of-type {\n",
       "        vertical-align: middle;\n",
       "    }\n",
       "\n",
       "    .dataframe tbody tr th {\n",
       "        vertical-align: top;\n",
       "    }\n",
       "\n",
       "    .dataframe thead th {\n",
       "        text-align: right;\n",
       "    }\n",
       "</style>\n",
       "<table border=\"1\" class=\"dataframe\">\n",
       "  <thead>\n",
       "    <tr style=\"text-align: right;\">\n",
       "      <th></th>\n",
       "      <th>id</th>\n",
       "      <th>date</th>\n",
       "      <th>price</th>\n",
       "      <th>bedrooms</th>\n",
       "      <th>bathrooms</th>\n",
       "      <th>sqft_living</th>\n",
       "      <th>sqft_lot</th>\n",
       "      <th>floors</th>\n",
       "      <th>waterfront</th>\n",
       "      <th>view</th>\n",
       "      <th>...</th>\n",
       "      <th>grade</th>\n",
       "      <th>sqft_above</th>\n",
       "      <th>sqft_basement</th>\n",
       "      <th>yr_built</th>\n",
       "      <th>yr_renovated</th>\n",
       "      <th>zipcode</th>\n",
       "      <th>lat</th>\n",
       "      <th>long</th>\n",
       "      <th>sqft_living15</th>\n",
       "      <th>sqft_lot15</th>\n",
       "    </tr>\n",
       "  </thead>\n",
       "  <tbody>\n",
       "    <tr>\n",
       "      <th>0</th>\n",
       "      <td>7129300520</td>\n",
       "      <td>10/13/2014</td>\n",
       "      <td>221900.0</td>\n",
       "      <td>3</td>\n",
       "      <td>1.00</td>\n",
       "      <td>1180</td>\n",
       "      <td>5650</td>\n",
       "      <td>1.0</td>\n",
       "      <td>NaN</td>\n",
       "      <td>NONE</td>\n",
       "      <td>...</td>\n",
       "      <td>7 Average</td>\n",
       "      <td>1180</td>\n",
       "      <td>0.0</td>\n",
       "      <td>1955</td>\n",
       "      <td>0.0</td>\n",
       "      <td>98178</td>\n",
       "      <td>47.5112</td>\n",
       "      <td>-122.257</td>\n",
       "      <td>1340</td>\n",
       "      <td>5650</td>\n",
       "    </tr>\n",
       "    <tr>\n",
       "      <th>1</th>\n",
       "      <td>6414100192</td>\n",
       "      <td>12/9/2014</td>\n",
       "      <td>538000.0</td>\n",
       "      <td>3</td>\n",
       "      <td>2.25</td>\n",
       "      <td>2570</td>\n",
       "      <td>7242</td>\n",
       "      <td>2.0</td>\n",
       "      <td>NO</td>\n",
       "      <td>NONE</td>\n",
       "      <td>...</td>\n",
       "      <td>7 Average</td>\n",
       "      <td>2170</td>\n",
       "      <td>400.0</td>\n",
       "      <td>1951</td>\n",
       "      <td>1991.0</td>\n",
       "      <td>98125</td>\n",
       "      <td>47.7210</td>\n",
       "      <td>-122.319</td>\n",
       "      <td>1690</td>\n",
       "      <td>7639</td>\n",
       "    </tr>\n",
       "    <tr>\n",
       "      <th>2</th>\n",
       "      <td>5631500400</td>\n",
       "      <td>2/25/2015</td>\n",
       "      <td>180000.0</td>\n",
       "      <td>2</td>\n",
       "      <td>1.00</td>\n",
       "      <td>770</td>\n",
       "      <td>10000</td>\n",
       "      <td>1.0</td>\n",
       "      <td>NO</td>\n",
       "      <td>NONE</td>\n",
       "      <td>...</td>\n",
       "      <td>6 Low Average</td>\n",
       "      <td>770</td>\n",
       "      <td>0.0</td>\n",
       "      <td>1933</td>\n",
       "      <td>NaN</td>\n",
       "      <td>98028</td>\n",
       "      <td>47.7379</td>\n",
       "      <td>-122.233</td>\n",
       "      <td>2720</td>\n",
       "      <td>8062</td>\n",
       "    </tr>\n",
       "    <tr>\n",
       "      <th>3</th>\n",
       "      <td>2487200875</td>\n",
       "      <td>12/9/2014</td>\n",
       "      <td>604000.0</td>\n",
       "      <td>4</td>\n",
       "      <td>3.00</td>\n",
       "      <td>1960</td>\n",
       "      <td>5000</td>\n",
       "      <td>1.0</td>\n",
       "      <td>NO</td>\n",
       "      <td>NONE</td>\n",
       "      <td>...</td>\n",
       "      <td>7 Average</td>\n",
       "      <td>1050</td>\n",
       "      <td>910.0</td>\n",
       "      <td>1965</td>\n",
       "      <td>0.0</td>\n",
       "      <td>98136</td>\n",
       "      <td>47.5208</td>\n",
       "      <td>-122.393</td>\n",
       "      <td>1360</td>\n",
       "      <td>5000</td>\n",
       "    </tr>\n",
       "    <tr>\n",
       "      <th>4</th>\n",
       "      <td>1954400510</td>\n",
       "      <td>2/18/2015</td>\n",
       "      <td>510000.0</td>\n",
       "      <td>3</td>\n",
       "      <td>2.00</td>\n",
       "      <td>1680</td>\n",
       "      <td>8080</td>\n",
       "      <td>1.0</td>\n",
       "      <td>NO</td>\n",
       "      <td>NONE</td>\n",
       "      <td>...</td>\n",
       "      <td>8 Good</td>\n",
       "      <td>1680</td>\n",
       "      <td>0.0</td>\n",
       "      <td>1987</td>\n",
       "      <td>0.0</td>\n",
       "      <td>98074</td>\n",
       "      <td>47.6168</td>\n",
       "      <td>-122.045</td>\n",
       "      <td>1800</td>\n",
       "      <td>7503</td>\n",
       "    </tr>\n",
       "  </tbody>\n",
       "</table>\n",
       "<p>5 rows × 21 columns</p>\n",
       "</div>"
      ],
      "text/plain": [
       "           id        date     price  bedrooms  bathrooms  sqft_living  \\\n",
       "0  7129300520  10/13/2014  221900.0         3       1.00         1180   \n",
       "1  6414100192   12/9/2014  538000.0         3       2.25         2570   \n",
       "2  5631500400   2/25/2015  180000.0         2       1.00          770   \n",
       "3  2487200875   12/9/2014  604000.0         4       3.00         1960   \n",
       "4  1954400510   2/18/2015  510000.0         3       2.00         1680   \n",
       "\n",
       "   sqft_lot  floors waterfront  view  ...          grade sqft_above  \\\n",
       "0      5650     1.0        NaN  NONE  ...      7 Average       1180   \n",
       "1      7242     2.0         NO  NONE  ...      7 Average       2170   \n",
       "2     10000     1.0         NO  NONE  ...  6 Low Average        770   \n",
       "3      5000     1.0         NO  NONE  ...      7 Average       1050   \n",
       "4      8080     1.0         NO  NONE  ...         8 Good       1680   \n",
       "\n",
       "   sqft_basement yr_built  yr_renovated  zipcode      lat     long  \\\n",
       "0            0.0     1955           0.0    98178  47.5112 -122.257   \n",
       "1          400.0     1951        1991.0    98125  47.7210 -122.319   \n",
       "2            0.0     1933           NaN    98028  47.7379 -122.233   \n",
       "3          910.0     1965           0.0    98136  47.5208 -122.393   \n",
       "4            0.0     1987           0.0    98074  47.6168 -122.045   \n",
       "\n",
       "   sqft_living15  sqft_lot15  \n",
       "0           1340        5650  \n",
       "1           1690        7639  \n",
       "2           2720        8062  \n",
       "3           1360        5000  \n",
       "4           1800        7503  \n",
       "\n",
       "[5 rows x 21 columns]"
      ]
     },
     "execution_count": 56,
     "metadata": {},
     "output_type": "execute_result"
    }
   ],
   "source": [
    "# Display the first few rows of the dataset\n",
    "data.head()\n"
   ]
  },
  {
   "cell_type": "markdown",
   "metadata": {},
   "source": [
    "In the context of determining influential features impacting house prices, the latitude ('lat'), longitude ('long'), and ZIP code ('zipcode') may not directly contribute to understanding the factors affecting house prices. While these columns provide location-related information, other variables such as 'sqft_living', 'bedrooms', 'bathrooms', and 'grade' are likely to be more relevant in capturing the essence of house pricing. Removing these columns should reduce the dimensionality of the dataset, simplifying the analysis and modeling process."
   ]
  },
  {
   "cell_type": "code",
   "execution_count": 57,
   "metadata": {},
   "outputs": [],
   "source": [
    "# Drop the 'lat', 'long', and 'zipcode' columns\n",
    "data = data.drop(['lat', 'long', 'zipcode'], axis=1)"
   ]
  },
  {
   "cell_type": "markdown",
   "metadata": {},
   "source": [
    "['date', 'sqft_above', 'sqft_basement', 'sqft_living15', 'sqft_lot15'] do not directly contribute to addressing the business problem. The 'date' column represents the sale date, which may not have a direct influence on house prices in this analysis. Columns measuring area are redundant, with other variables already present in the dataset. For example, the 'sqft_above' and 'sqft_basement' columns are part of the 'sqft_living' variable, which represents the total square footage of the house. "
   ]
  },
  {
   "cell_type": "code",
   "execution_count": 58,
   "metadata": {},
   "outputs": [],
   "source": [
    "# Drop the specified columns\n",
    "data = data.drop(['date', 'sqft_above', 'sqft_basement', 'sqft_living15', 'sqft_lot15'], axis=1)\n"
   ]
  },
  {
   "cell_type": "code",
   "execution_count": 59,
   "metadata": {
    "id": "n8-dW4sQWzbc"
   },
   "outputs": [
    {
     "name": "stdout",
     "output_type": "stream",
     "text": [
      "<class 'pandas.core.frame.DataFrame'>\n",
      "RangeIndex: 21597 entries, 0 to 21596\n",
      "Data columns (total 13 columns):\n",
      " #   Column        Non-Null Count  Dtype  \n",
      "---  ------        --------------  -----  \n",
      " 0   id            21597 non-null  int64  \n",
      " 1   price         21597 non-null  float64\n",
      " 2   bedrooms      21597 non-null  int64  \n",
      " 3   bathrooms     21597 non-null  float64\n",
      " 4   sqft_living   21597 non-null  int64  \n",
      " 5   sqft_lot      21597 non-null  int64  \n",
      " 6   floors        21597 non-null  float64\n",
      " 7   waterfront    19221 non-null  object \n",
      " 8   view          21534 non-null  object \n",
      " 9   condition     21597 non-null  object \n",
      " 10  grade         21597 non-null  object \n",
      " 11  yr_built      21597 non-null  int64  \n",
      " 12  yr_renovated  17755 non-null  float64\n",
      "dtypes: float64(4), int64(5), object(4)\n",
      "memory usage: 2.1+ MB\n"
     ]
    }
   ],
   "source": [
    "# Check the data types and identify any missing values\n",
    "data.info()\n"
   ]
  },
  {
   "cell_type": "code",
   "execution_count": 60,
   "metadata": {},
   "outputs": [
    {
     "name": "stdout",
     "output_type": "stream",
     "text": [
      "Summary for waterfront:\n",
      "NO     19075\n",
      "YES      146\n",
      "Name: waterfront, dtype: int64\n",
      "\n",
      "Summary for view:\n",
      "NONE         19422\n",
      "AVERAGE        957\n",
      "GOOD           508\n",
      "FAIR           330\n",
      "EXCELLENT      317\n",
      "Name: view, dtype: int64\n",
      "\n",
      "Summary for condition:\n",
      "Average      14020\n",
      "Good          5677\n",
      "Very Good     1701\n",
      "Fair           170\n",
      "Poor            29\n",
      "Name: condition, dtype: int64\n",
      "\n",
      "Summary for grade:\n",
      "7 Average        8974\n",
      "8 Good           6065\n",
      "9 Better         2615\n",
      "6 Low Average    2038\n",
      "10 Very Good     1134\n",
      "11 Excellent      399\n",
      "5 Fair            242\n",
      "12 Luxury          89\n",
      "4 Low              27\n",
      "13 Mansion         13\n",
      "3 Poor              1\n",
      "Name: grade, dtype: int64\n",
      "\n"
     ]
    }
   ],
   "source": [
    "# Select categorical columns\n",
    "categorical_columns = data.select_dtypes(include=['object']).columns\n",
    "\n",
    "# Separate categorical variables from the dataset\n",
    "categorical_data = data[categorical_columns]\n",
    "\n",
    "# Create an empty dictionary to store the summaries\n",
    "categorical_summaries = {}\n",
    "\n",
    "# Iterate over the categorical columns\n",
    "for column in categorical_columns:\n",
    "    # Calculate the frequency distribution of the categorical variable\n",
    "    category_counts = categorical_data[column].value_counts()\n",
    "    \n",
    "    # Store the summary in the dictionary\n",
    "    categorical_summaries[column] = category_counts\n",
    "\n",
    "# Print the summaries\n",
    "for column, summary in categorical_summaries.items():\n",
    "    print(f\"Summary for {column}:\")\n",
    "    print(summary)\n",
    "    print()\n"
   ]
  },
  {
   "cell_type": "code",
   "execution_count": 61,
   "metadata": {},
   "outputs": [
    {
     "data": {
      "text/html": [
       "<div>\n",
       "<style scoped>\n",
       "    .dataframe tbody tr th:only-of-type {\n",
       "        vertical-align: middle;\n",
       "    }\n",
       "\n",
       "    .dataframe tbody tr th {\n",
       "        vertical-align: top;\n",
       "    }\n",
       "\n",
       "    .dataframe thead th {\n",
       "        text-align: right;\n",
       "    }\n",
       "</style>\n",
       "<table border=\"1\" class=\"dataframe\">\n",
       "  <thead>\n",
       "    <tr style=\"text-align: right;\">\n",
       "      <th></th>\n",
       "      <th>price</th>\n",
       "      <th>bedrooms</th>\n",
       "      <th>bathrooms</th>\n",
       "      <th>sqft_living</th>\n",
       "      <th>sqft_lot</th>\n",
       "      <th>floors</th>\n",
       "    </tr>\n",
       "  </thead>\n",
       "  <tbody>\n",
       "    <tr>\n",
       "      <th>count</th>\n",
       "      <td>2.159700e+04</td>\n",
       "      <td>21597.000000</td>\n",
       "      <td>21597.000000</td>\n",
       "      <td>21597.000000</td>\n",
       "      <td>2.159700e+04</td>\n",
       "      <td>21597.000000</td>\n",
       "    </tr>\n",
       "    <tr>\n",
       "      <th>mean</th>\n",
       "      <td>5.402966e+05</td>\n",
       "      <td>3.373200</td>\n",
       "      <td>2.115826</td>\n",
       "      <td>2080.321850</td>\n",
       "      <td>1.509941e+04</td>\n",
       "      <td>1.494096</td>\n",
       "    </tr>\n",
       "    <tr>\n",
       "      <th>std</th>\n",
       "      <td>3.673681e+05</td>\n",
       "      <td>0.926299</td>\n",
       "      <td>0.768984</td>\n",
       "      <td>918.106125</td>\n",
       "      <td>4.141264e+04</td>\n",
       "      <td>0.539683</td>\n",
       "    </tr>\n",
       "    <tr>\n",
       "      <th>min</th>\n",
       "      <td>7.800000e+04</td>\n",
       "      <td>1.000000</td>\n",
       "      <td>0.500000</td>\n",
       "      <td>370.000000</td>\n",
       "      <td>5.200000e+02</td>\n",
       "      <td>1.000000</td>\n",
       "    </tr>\n",
       "    <tr>\n",
       "      <th>25%</th>\n",
       "      <td>3.220000e+05</td>\n",
       "      <td>3.000000</td>\n",
       "      <td>1.750000</td>\n",
       "      <td>1430.000000</td>\n",
       "      <td>5.040000e+03</td>\n",
       "      <td>1.000000</td>\n",
       "    </tr>\n",
       "    <tr>\n",
       "      <th>50%</th>\n",
       "      <td>4.500000e+05</td>\n",
       "      <td>3.000000</td>\n",
       "      <td>2.250000</td>\n",
       "      <td>1910.000000</td>\n",
       "      <td>7.618000e+03</td>\n",
       "      <td>1.500000</td>\n",
       "    </tr>\n",
       "    <tr>\n",
       "      <th>75%</th>\n",
       "      <td>6.450000e+05</td>\n",
       "      <td>4.000000</td>\n",
       "      <td>2.500000</td>\n",
       "      <td>2550.000000</td>\n",
       "      <td>1.068500e+04</td>\n",
       "      <td>2.000000</td>\n",
       "    </tr>\n",
       "    <tr>\n",
       "      <th>max</th>\n",
       "      <td>7.700000e+06</td>\n",
       "      <td>33.000000</td>\n",
       "      <td>8.000000</td>\n",
       "      <td>13540.000000</td>\n",
       "      <td>1.651359e+06</td>\n",
       "      <td>3.500000</td>\n",
       "    </tr>\n",
       "  </tbody>\n",
       "</table>\n",
       "</div>"
      ],
      "text/plain": [
       "              price      bedrooms     bathrooms   sqft_living      sqft_lot  \\\n",
       "count  2.159700e+04  21597.000000  21597.000000  21597.000000  2.159700e+04   \n",
       "mean   5.402966e+05      3.373200      2.115826   2080.321850  1.509941e+04   \n",
       "std    3.673681e+05      0.926299      0.768984    918.106125  4.141264e+04   \n",
       "min    7.800000e+04      1.000000      0.500000    370.000000  5.200000e+02   \n",
       "25%    3.220000e+05      3.000000      1.750000   1430.000000  5.040000e+03   \n",
       "50%    4.500000e+05      3.000000      2.250000   1910.000000  7.618000e+03   \n",
       "75%    6.450000e+05      4.000000      2.500000   2550.000000  1.068500e+04   \n",
       "max    7.700000e+06     33.000000      8.000000  13540.000000  1.651359e+06   \n",
       "\n",
       "             floors  \n",
       "count  21597.000000  \n",
       "mean       1.494096  \n",
       "std        0.539683  \n",
       "min        1.000000  \n",
       "25%        1.000000  \n",
       "50%        1.500000  \n",
       "75%        2.000000  \n",
       "max        3.500000  "
      ]
     },
     "execution_count": 61,
     "metadata": {},
     "output_type": "execute_result"
    }
   ],
   "source": [
    "# Generate descriptive statistics of numeric variables\n",
    "# Select the relevant columns for analysis\n",
    "relevant_columns = ['price', 'bedrooms', 'bathrooms', 'sqft_living', 'sqft_lot', 'floors']\n",
    "\n",
    "# Use describe() on the selected columns\n",
    "data[relevant_columns].describe()\n"
   ]
  },
  {
   "cell_type": "markdown",
   "metadata": {
    "id": "FlBMxEDBUc9B"
   },
   "source": [
    "## 5. Tidying the Dataset"
   ]
  },
  {
   "cell_type": "code",
   "execution_count": 62,
   "metadata": {},
   "outputs": [
    {
     "data": {
      "text/html": [
       "<div>\n",
       "<style scoped>\n",
       "    .dataframe tbody tr th:only-of-type {\n",
       "        vertical-align: middle;\n",
       "    }\n",
       "\n",
       "    .dataframe tbody tr th {\n",
       "        vertical-align: top;\n",
       "    }\n",
       "\n",
       "    .dataframe thead th {\n",
       "        text-align: right;\n",
       "    }\n",
       "</style>\n",
       "<table border=\"1\" class=\"dataframe\">\n",
       "  <thead>\n",
       "    <tr style=\"text-align: right;\">\n",
       "      <th></th>\n",
       "      <th>Missing Values</th>\n",
       "      <th>Missing Percentage</th>\n",
       "    </tr>\n",
       "  </thead>\n",
       "  <tbody>\n",
       "    <tr>\n",
       "      <th>id</th>\n",
       "      <td>0</td>\n",
       "      <td>0.000000</td>\n",
       "    </tr>\n",
       "    <tr>\n",
       "      <th>price</th>\n",
       "      <td>0</td>\n",
       "      <td>0.000000</td>\n",
       "    </tr>\n",
       "    <tr>\n",
       "      <th>bedrooms</th>\n",
       "      <td>0</td>\n",
       "      <td>0.000000</td>\n",
       "    </tr>\n",
       "    <tr>\n",
       "      <th>bathrooms</th>\n",
       "      <td>0</td>\n",
       "      <td>0.000000</td>\n",
       "    </tr>\n",
       "    <tr>\n",
       "      <th>sqft_living</th>\n",
       "      <td>0</td>\n",
       "      <td>0.000000</td>\n",
       "    </tr>\n",
       "    <tr>\n",
       "      <th>sqft_lot</th>\n",
       "      <td>0</td>\n",
       "      <td>0.000000</td>\n",
       "    </tr>\n",
       "    <tr>\n",
       "      <th>floors</th>\n",
       "      <td>0</td>\n",
       "      <td>0.000000</td>\n",
       "    </tr>\n",
       "    <tr>\n",
       "      <th>waterfront</th>\n",
       "      <td>2376</td>\n",
       "      <td>11.001528</td>\n",
       "    </tr>\n",
       "    <tr>\n",
       "      <th>view</th>\n",
       "      <td>63</td>\n",
       "      <td>0.291707</td>\n",
       "    </tr>\n",
       "    <tr>\n",
       "      <th>condition</th>\n",
       "      <td>0</td>\n",
       "      <td>0.000000</td>\n",
       "    </tr>\n",
       "    <tr>\n",
       "      <th>grade</th>\n",
       "      <td>0</td>\n",
       "      <td>0.000000</td>\n",
       "    </tr>\n",
       "    <tr>\n",
       "      <th>yr_built</th>\n",
       "      <td>0</td>\n",
       "      <td>0.000000</td>\n",
       "    </tr>\n",
       "    <tr>\n",
       "      <th>yr_renovated</th>\n",
       "      <td>3842</td>\n",
       "      <td>17.789508</td>\n",
       "    </tr>\n",
       "  </tbody>\n",
       "</table>\n",
       "</div>"
      ],
      "text/plain": [
       "              Missing Values  Missing Percentage\n",
       "id                         0            0.000000\n",
       "price                      0            0.000000\n",
       "bedrooms                   0            0.000000\n",
       "bathrooms                  0            0.000000\n",
       "sqft_living                0            0.000000\n",
       "sqft_lot                   0            0.000000\n",
       "floors                     0            0.000000\n",
       "waterfront              2376           11.001528\n",
       "view                      63            0.291707\n",
       "condition                  0            0.000000\n",
       "grade                      0            0.000000\n",
       "yr_built                   0            0.000000\n",
       "yr_renovated            3842           17.789508"
      ]
     },
     "execution_count": 62,
     "metadata": {},
     "output_type": "execute_result"
    }
   ],
   "source": [
    "# Calculate the total number of missing values for each column\n",
    "missing_data = data.isnull().sum()\n",
    "\n",
    "# Calculate the percentage of missing values for each column\n",
    "missing_percentage = (missing_data / len(data)) * 100\n",
    "\n",
    "# Create a summary dataframe of missing data\n",
    "missing_summary = pd.DataFrame({'Missing Values': missing_data, 'Missing Percentage': missing_percentage})\n",
    "\n",
    "missing_summary"
   ]
  },
  {
   "cell_type": "code",
   "execution_count": 63,
   "metadata": {},
   "outputs": [
    {
     "name": "stdout",
     "output_type": "stream",
     "text": [
      "Rows with Missing Waterfront:\n",
      "            id     price  bedrooms  bathrooms  sqft_living  sqft_lot  floors  \\\n",
      "0   7129300520  221900.0         3        1.0         1180      5650     1.0   \n",
      "10  1736800520  662500.0         3        2.5         3560      9796     1.0   \n",
      "23  8091400200  252700.0         2        1.5         1070      9643     1.0   \n",
      "40  5547700270  625000.0         4        2.5         2570      5520     2.0   \n",
      "55  9822700295  885000.0         4        2.5         2830      5000     2.0   \n",
      "\n",
      "   waterfront  view condition      grade  yr_built  yr_renovated  \n",
      "0         NaN  NONE   Average  7 Average      1955           0.0  \n",
      "10        NaN  NONE   Average     8 Good      1965           0.0  \n",
      "23        NaN  NONE   Average  7 Average      1985           NaN  \n",
      "40        NaN  NONE   Average   9 Better      2000           NaN  \n",
      "55        NaN  NONE   Average   9 Better      1995           0.0  \n",
      "\n"
     ]
    }
   ],
   "source": [
    "# Filter the DataFrame for missing values in 'waterfront' column\n",
    "missing_waterfront = data[data['waterfront'].isnull()]\n",
    "\n",
    "# Display the first ten rows with missing 'waterfront' values\n",
    "print(\"Rows with Missing Waterfront:\")\n",
    "print(missing_waterfront.head())\n",
    "print()\n"
   ]
  },
  {
   "cell_type": "markdown",
   "metadata": {},
   "source": [
    "In this scenario, it is likely that the missing values in the 'waterfront' column correspond to houses that do not have a waterfront location, a non-response in data collection. This assumption aligns with the common understanding that waterfront properties are relatively rare compared to non-waterfront properties. Replacing the missing values in the 'waterfront' column with the value 'NO' to explicitly indicate the absence of a waterfront for those houses."
   ]
  },
  {
   "cell_type": "code",
   "execution_count": 64,
   "metadata": {},
   "outputs": [],
   "source": [
    "# Impute missing values in 'waterfront' column with 'No'\n",
    "data['waterfront'].fillna('NO', inplace=True)"
   ]
  },
  {
   "cell_type": "code",
   "execution_count": 65,
   "metadata": {},
   "outputs": [
    {
     "data": {
      "image/png": "[encoded data removed]",
      "text/plain": [
       "<Figure size 800x600 with 1 Axes>"
      ]
     },
     "metadata": {},
     "output_type": "display_data"
    }
   ],
   "source": [
    "# Filter the DataFrame for missing values in 'view' column\n",
    "view_counts = data['view'].value_counts(dropna=False)\n",
    "plt.figure(figsize=(8, 6))\n",
    "sns.barplot(x=view_counts.index, y=view_counts.values)\n",
    "plt.xlabel('View Category')\n",
    "plt.ylabel('Count')\n",
    "plt.title('Distribution of View Category')\n",
    "plt.show()"
   ]
  },
  {
   "cell_type": "code",
   "execution_count": 66,
   "metadata": {},
   "outputs": [
    {
     "name": "stdout",
     "output_type": "stream",
     "text": [
      "The percentage of 'NONE' category in the 'view' column is: 89.93%\n"
     ]
    }
   ],
   "source": [
    "# Calculate the percentage of \"NONE\" category in the 'view' column\n",
    "none_percentage = (data['view'].value_counts()['NONE'] / len(data['view'])) * 100\n",
    "\n",
    "# Print the percentage\n",
    "print(f\"The percentage of 'NONE' category in the 'view' column is: {none_percentage:.2f}%\")\n"
   ]
  },
  {
   "cell_type": "markdown",
   "metadata": {},
   "source": [
    "Due to the high proportion (89.93%) of missing values in the 'view' column, it is dropped from further analysis to focus on more influential features for house price prediction."
   ]
  },
  {
   "cell_type": "code",
   "execution_count": 67,
   "metadata": {},
   "outputs": [],
   "source": [
    "# Drop the 'view' column\n",
    "data.drop('view', axis=1, inplace=True)"
   ]
  },
  {
   "cell_type": "code",
   "execution_count": 68,
   "metadata": {},
   "outputs": [
    {
     "name": "stdout",
     "output_type": "stream",
     "text": [
      "5193     0.0\n",
      "20851    0.0\n",
      "15617    0.0\n",
      "12684    0.0\n",
      "10094    NaN\n",
      "Name: yr_renovated, dtype: float64\n"
     ]
    }
   ],
   "source": [
    "sample = data['yr_renovated'].sample(n=5)\n",
    "print(sample)\n"
   ]
  },
  {
   "cell_type": "code",
   "execution_count": 69,
   "metadata": {},
   "outputs": [
    {
     "name": "stdout",
     "output_type": "stream",
     "text": [
      "NaN Values: 3842 (17.79%)\n",
      "Inf Values: 0 (0.00%)\n",
      "0.0 Values: 17011 (78.77%)\n"
     ]
    }
   ],
   "source": [
    "# Filter for NaN values\n",
    "nan_values = data[data['yr_renovated'].isna()]\n",
    "\n",
    "# Filter for inf values\n",
    "inf_values = data[data['yr_renovated'].isin([np.inf, -np.inf])]\n",
    "\n",
    "# Filter for 0.0 values\n",
    "zero_values = data[data['yr_renovated'] == 0.0]\n",
    "\n",
    "# Print the counts and percentages of each category\n",
    "print(f\"NaN Values: {len(nan_values)} ({len(nan_values)/len(data)*100:.2f}%)\")\n",
    "print(f\"Inf Values: {len(inf_values)} ({len(inf_values)/len(data)*100:.2f}%)\")\n",
    "print(f\"0.0 Values: {len(zero_values)} ({len(zero_values)/len(data)*100:.2f}%)\")\n"
   ]
  },
  {
   "cell_type": "markdown",
   "metadata": {},
   "source": [
    "Given this distribution, it is reasonable to assume that the houses with 'NaN' and 0.0 values in the 'yr_renovated' column have not been renovated. Converting the column to integer format allows for easier numerical analysis and comparison."
   ]
  },
  {
   "cell_type": "code",
   "execution_count": 70,
   "metadata": {},
   "outputs": [],
   "source": [
    "# Replace non-finite values with -1\n",
    "data['yr_renovated'] = data['yr_renovated'].replace([np.inf, -np.inf, np.nan], -1)\n",
    "\n",
    "# Cast 'yr_renovated' column to int\n",
    "data['yr_renovated'] = data['yr_renovated'].astype(int)\n",
    "\n",
    "# Replace -1 values with zero\n",
    "data['yr_renovated'] = data['yr_renovated'].replace(-1, 0)\n"
   ]
  },
  {
   "cell_type": "code",
   "execution_count": 71,
   "metadata": {},
   "outputs": [
    {
     "name": "stdout",
     "output_type": "stream",
     "text": [
      "List of variables and their correlation coefficients:\n",
      "sqft_living: 0.7019173021377595\n",
      "bathrooms: 0.5259056214532012\n",
      "bedrooms: 0.3087874719565328\n",
      "floors: 0.2568035370080218\n",
      "yr_renovated: 0.11785522779076014\n",
      "sqft_lot: 0.08987622099083864\n",
      "yr_built: 0.05395333346519117\n",
      "id: -0.01677184761297261\n"
     ]
    }
   ],
   "source": [
    "# Calculate the correlation coefficients\n",
    "correlation_coeffs = data.drop('price', axis=1).corrwith(data['price'], numeric_only=True)\n",
    "\n",
    "# Create a list of variable-correlation pairs\n",
    "variable_correlation_list = [(variable, correlation_coeffs[variable]) for variable in correlation_coeffs.index]\n",
    "\n",
    "# Sort the list by absolute correlation coefficient in descending order\n",
    "sorted_variable_correlation_list = sorted(variable_correlation_list, key=lambda x: abs(x[1]), reverse=True)\n",
    "\n",
    "# Display the list of variables and their correlation coefficients\n",
    "print(\"List of variables and their correlation coefficients:\")\n",
    "for variable, correlation_coefficient in sorted_variable_correlation_list:\n",
    "    print(f\"{variable}: {correlation_coefficient}\")\n"
   ]
  },
  {
   "cell_type": "markdown",
   "metadata": {},
   "source": [
    "Identify the variable with the highest absolute correlation with the price from the list."
   ]
  },
  {
   "cell_type": "code",
   "execution_count": 72,
   "metadata": {},
   "outputs": [
    {
     "name": "stdout",
     "output_type": "stream",
     "text": [
      "The variable with the highest correlation to price is: ('sqft_living', 0.7019173021377595)\n"
     ]
    }
   ],
   "source": [
    "# Get the variable with the highest absolute correlation\n",
    "most_influential_variable = sorted_variable_correlation_list[0]\n",
    "\n",
    "print(f\"The variable with the highest correlation to price is: {most_influential_variable}\")\n"
   ]
  },
  {
   "cell_type": "code",
   "execution_count": 73,
   "metadata": {},
   "outputs": [
    {
     "data": {
      "image/png": "[encoded data removed]",
      "text/plain": [
       "<Figure size 640x480 with 1 Axes>"
      ]
     },
     "metadata": {},
     "output_type": "display_data"
    }
   ],
   "source": [
    "# Set a random seed for reproducibility\n",
    "np.random.seed(52)\n",
    "\n",
    "# Randomly sample the data\n",
    "sample_data = data.sample(n=1000)  # Adjust the sample size as desired\n",
    "\n",
    "# Extract the variables of interest\n",
    "sqft_living = sample_data['sqft_living']\n",
    "price = sample_data['price']\n",
    "\n",
    "# Create a scatter plot\n",
    "plt.scatter(sqft_living, price)\n",
    "plt.xlabel('Square Footage of Living Space')\n",
    "plt.ylabel('Price')\n",
    "plt.title('Correlation: sqft_living vs. Price')\n",
    "plt.show()"
   ]
  },
  {
   "cell_type": "markdown",
   "metadata": {},
   "source": [
    "'sqft_living' is selected for the base model because of its intuitive relevance to house value and its strong correlation with the price."
   ]
  },
  {
   "cell_type": "markdown",
   "metadata": {},
   "source": [
    "Creating and Fitting Simple Linear Regression."
   ]
  },
  {
   "cell_type": "code",
   "execution_count": 74,
   "metadata": {},
   "outputs": [],
   "source": [
    "def build_linear_regression_model(X, y):\n",
    "    \"\"\"Build a simple linear regression model using the given features and target variables.\"\"\"\n",
    "    X = sm.add_constant(X)  # Add a constant column to the feature matrix\n",
    "    model = sm.OLS(y, X)\n",
    "    return model\n",
    "\n",
    "def train_model(model):\n",
    "    \"\"\"Train the linear regression model.\"\"\"\n",
    "    return model.fit()\n",
    "\n",
    "def get_model_summary(model_result):\n",
    "    \"\"\"Get the summary of the trained linear regression model.\"\"\"\n",
    "    return model_result.summary()"
   ]
  },
  {
   "cell_type": "code",
   "execution_count": 75,
   "metadata": {},
   "outputs": [
    {
     "name": "stdout",
     "output_type": "stream",
     "text": [
      "                            OLS Regression Results                            \n",
      "==============================================================================\n",
      "Dep. Variable:                  price   R-squared:                       0.493\n",
      "Model:                            OLS   Adj. R-squared:                  0.493\n",
      "Method:                 Least Squares   F-statistic:                 2.097e+04\n",
      "Date:                Mon, 10 Jul 2023   Prob (F-statistic):               0.00\n",
      "Time:                        12:37:10   Log-Likelihood:            -3.0006e+05\n",
      "No. Observations:               21597   AIC:                         6.001e+05\n",
      "Df Residuals:                   21595   BIC:                         6.001e+05\n",
      "Df Model:                           1                                         \n",
      "Covariance Type:            nonrobust                                         \n",
      "===============================================================================\n",
      "                  coef    std err          t      P>|t|      [0.025      0.975]\n",
      "-------------------------------------------------------------------------------\n",
      "const       -4.399e+04   4410.023     -9.975      0.000   -5.26e+04   -3.53e+04\n",
      "sqft_living   280.8630      1.939    144.819      0.000     277.062     284.664\n",
      "==============================================================================\n",
      "Omnibus:                    14801.942   Durbin-Watson:                   1.982\n",
      "Prob(Omnibus):                  0.000   Jarque-Bera (JB):           542662.604\n",
      "Skew:                           2.820   Prob(JB):                         0.00\n",
      "Kurtosis:                      26.901   Cond. No.                     5.63e+03\n",
      "==============================================================================\n",
      "\n",
      "Notes:\n",
      "[1] Standard Errors assume that the covariance matrix of the errors is correctly specified.\n",
      "[2] The condition number is large, 5.63e+03. This might indicate that there are\n",
      "strong multicollinearity or other numerical problems.\n"
     ]
    }
   ],
   "source": [
    "X = data[['sqft_living']]  # Input features\n",
    "y = data['price']          # Target variable\n",
    "\n",
    "model = build_linear_regression_model(X, y)\n",
    "trained_model = train_model(model)\n",
    "summary = get_model_summary(trained_model)\n",
    "print(summary)"
   ]
  },
  {
   "cell_type": "markdown",
   "metadata": {},
   "source": [
    "R-squared measures the proportion of the variance in the target variable that can be explained by the independent variables. A higher R-squared indicates a better fit. In this case, R-squared is 0.493.\n",
    "\n",
    "Adjusted R-squared takes into account the number of predictors in the model. It penalizes the addition of unnecessary variables and provides a better measure of the model's goodness of fit."
   ]
  },
  {
   "cell_type": "code",
   "execution_count": 98,
   "metadata": {},
   "outputs": [
    {
     "name": "stdout",
     "output_type": "stream",
     "text": [
      "Mean Squared Error (MSE): 669331631327761.2\n",
      "Root Mean Squared Error (RMSE): 25871444.322413877\n"
     ]
    }
   ],
   "source": [
    "# Calculate mean squared error (MSE)\n",
    "mse = results.mse_model\n",
    "\n",
    "# Calculate root mean squared error (RMSE)\n",
    "rmse = np.sqrt(mse)\n",
    "\n",
    "# Print the MSE and RMSE\n",
    "print(\"Mean Squared Error (MSE):\", mse)\n",
    "print(\"Root Mean Squared Error (RMSE):\", rmse)\n"
   ]
  },
  {
   "cell_type": "code",
   "execution_count": null,
   "metadata": {
    "id": "5o_bQcT5W3Wz"
   },
   "outputs": [],
   "source": [
    "# Checking for Outliers\n",
    "#"
   ]
  },
  {
   "cell_type": "code",
   "execution_count": null,
   "metadata": {
    "id": "PWlukLKUvFQN"
   },
   "outputs": [],
   "source": [
    "# Checking for Anomalies\n",
    "#"
   ]
  },
  {
   "cell_type": "code",
   "execution_count": null,
   "metadata": {
    "id": "D-4I__6Os4C5"
   },
   "outputs": [],
   "source": [
    "# More data cleaning procedures\n",
    "#"
   ]
  },
  {
   "attachments": {},
   "cell_type": "markdown",
   "metadata": {
    "id": "rF2ABPsHUtbZ"
   },
   "source": [
    "## 6. Exploratory Analysis\n",
    "Feature engineering: Consider which features might have a significant impact on house prices based on domain knowledge and exploratory data analysis. Create new features or transform existing ones to capture meaningful information. For example, you might create dummy variables for categorical features like \"waterfront\" or \"view\" to assess their influence on house prices."
   ]
  },
  {
   "cell_type": "code",
   "execution_count": null,
   "metadata": {
    "id": "5nnRToniXGDK"
   },
   "outputs": [],
   "source": [
    "# Ploting the bivariate summaries and recording our observations\n",
    "#"
   ]
  },
  {
   "cell_type": "code",
   "execution_count": null,
   "metadata": {
    "id": "6UzyQC6kmdBi"
   },
   "outputs": [],
   "source": [
    "# Data Reduction\n",
    "#"
   ]
  },
  {
   "attachments": {},
   "cell_type": "markdown",
   "metadata": {},
   "source": [
    "Model building and evaluation: Start with a basic linear regression model using the identified influential features and the target variable (house price). Evaluate the model's performance using metrics such as R-squared, mean squared error (MSE), or root mean squared error (RMSE). Assess the significance of the coefficients for each feature and interpret their implications."
   ]
  },
  {
   "attachments": {},
   "cell_type": "markdown",
   "metadata": {
    "id": "vTbdjSrhVIiT"
   },
   "source": [
    "## 7. Implementing the Solution\n",
    "Iterate and refine the models: Based on the evaluation results, make iterative improvements to the model. You can try different variable transformations, feature selections, or consider interactions between variables. Evaluate each model, compare their performance, and document the changes you made and the reasoning behind them."
   ]
  },
  {
   "cell_type": "code",
   "execution_count": null,
   "metadata": {
    "id": "PJLZaRzJXJ3w"
   },
   "outputs": [],
   "source": [
    "# Implementing the Solution\n",
    "# "
   ]
  },
  {
   "attachments": {},
   "cell_type": "markdown",
   "metadata": {},
   "source": [
    "Final model selection and interpretation: Select the final model based on its performance, interpretability, and alignment with the business problem. Discuss the findings and insights obtained from the final model, focusing on the most influential features and their impact on house prices. Provide actionable recommendations for the real estate agency to prioritize and emphasize these features in their advice to homeowners and buyers."
   ]
  },
  {
   "cell_type": "markdown",
   "metadata": {
    "id": "lQ2G4ZPDVOXE"
   },
   "source": [
    "## 8. Challenging the solution"
   ]
  },
  {
   "cell_type": "markdown",
   "metadata": {
    "id": "jWVGKGuiYMWg"
   },
   "source": [
    "> The easy solution is nice because it is, well, easy, but you should never allow those results to hold the day. You should always be thinking of ways to challenge the results, especially if those results comport with your prior expectation.\n",
    "\n",
    "\n",
    "\n",
    "\n"
   ]
  },
  {
   "cell_type": "code",
   "execution_count": null,
   "metadata": {
    "id": "j3x3SXZ4XT_L"
   },
   "outputs": [],
   "source": [
    "# Reviewing the Solution \n",
    "#"
   ]
  },
  {
   "cell_type": "markdown",
   "metadata": {
    "id": "xrmHVMVsVS--"
   },
   "source": [
    "## 9. Follow up questions"
   ]
  },
  {
   "cell_type": "markdown",
   "metadata": {
    "id": "pth2qSWhuBIy"
   },
   "source": [
    "> At this point, we can refine our question or collect new data, all in an iterative process to get at the truth.\n",
    "\n"
   ]
  },
  {
   "cell_type": "markdown",
   "metadata": {
    "id": "HPQviDmNtta8"
   },
   "source": [
    "### a). Did we have the right data?"
   ]
  },
  {
   "cell_type": "markdown",
   "metadata": {
    "id": "qjFHK1CKty7o"
   },
   "source": [
    "### b). Do we need other data to answer our question?"
   ]
  },
  {
   "cell_type": "markdown",
   "metadata": {
    "id": "HSsicSdvt4Zs"
   },
   "source": [
    "### c). Did we have the right question?"
   ]
  }
 ],
 "metadata": {
  "colab": {
   "collapsed_sections": [
    "kLG2VTrnTvYL",
    "J4wfHZwQrs-t",
    "a9BPYqunry97",
    "7KMRBJ7zr9HD",
    "zSGyg6kWsBUl",
    "iUNbvIvnT7ep",
    "OI3P3YnHUEBk",
    "ckfufNrcUHeH",
    "6XC_g-zKxe-r",
    "FlBMxEDBUc9B",
    "rF2ABPsHUtbZ",
    "vTbdjSrhVIiT",
    "lQ2G4ZPDVOXE",
    "xrmHVMVsVS--",
    "HPQviDmNtta8",
    "qjFHK1CKty7o",
    "HSsicSdvt4Zs"
   ],
   "provenance": [],
   "toc_visible": true
  },
  "kernelspec": {
   "display_name": "Python 3 (ipykernel)",
   "language": "python",
   "name": "python3"
  },
  "language_info": {
   "codemirror_mode": {
    "name": "ipython",
    "version": 3
   },
   "file_extension": ".py",
   "mimetype": "text/x-python",
   "name": "python",
   "nbconvert_exporter": "python",
   "pygments_lexer": "ipython3",
   "version": "3.10.11"
  }
 },
 "nbformat": 4,
 "nbformat_minor": 4
}
